{
  "nbformat": 4,
  "nbformat_minor": 0,
  "metadata": {
    "colab": {
      "provenance": []
    },
    "kernelspec": {
      "name": "python3",
      "display_name": "Python 3"
    },
    "language_info": {
      "name": "python"
    }
  },
  "cells": [
    {
      "cell_type": "code",
      "source": [
        "!pip install botorch gpytorch"
      ],
      "metadata": {
        "colab": {
          "base_uri": "https://localhost:8080/"
        },
        "id": "Gjnd8iiC5Cp3",
        "outputId": "13dee745-cd41-4b60-8534-c264544aeda8",
        "collapsed": true
      },
      "execution_count": 1,
      "outputs": [
        {
          "output_type": "stream",
          "name": "stdout",
          "text": [
            "Collecting botorch\n",
            "  Downloading botorch-0.14.0-py3-none-any.whl.metadata (10 kB)\n",
            "Collecting gpytorch\n",
            "  Downloading gpytorch-1.14-py3-none-any.whl.metadata (8.0 kB)\n",
            "Requirement already satisfied: typing_extensions in /usr/local/lib/python3.11/dist-packages (from botorch) (4.13.2)\n",
            "Collecting pyre_extensions (from botorch)\n",
            "  Downloading pyre_extensions-0.0.32-py3-none-any.whl.metadata (4.0 kB)\n",
            "Collecting linear_operator==0.6 (from botorch)\n",
            "  Downloading linear_operator-0.6-py3-none-any.whl.metadata (15 kB)\n",
            "Requirement already satisfied: torch>=2.0.1 in /usr/local/lib/python3.11/dist-packages (from botorch) (2.6.0+cu124)\n",
            "Collecting pyro-ppl>=1.8.4 (from botorch)\n",
            "  Downloading pyro_ppl-1.9.1-py3-none-any.whl.metadata (7.8 kB)\n",
            "Requirement already satisfied: scipy in /usr/local/lib/python3.11/dist-packages (from botorch) (1.15.3)\n",
            "Requirement already satisfied: multipledispatch in /usr/local/lib/python3.11/dist-packages (from botorch) (1.0.0)\n",
            "Requirement already satisfied: threadpoolctl in /usr/local/lib/python3.11/dist-packages (from botorch) (3.6.0)\n",
            "Collecting jaxtyping (from gpytorch)\n",
            "  Downloading jaxtyping-0.3.2-py3-none-any.whl.metadata (7.0 kB)\n",
            "Requirement already satisfied: mpmath<=1.3,>=0.19 in /usr/local/lib/python3.11/dist-packages (from gpytorch) (1.3.0)\n",
            "Requirement already satisfied: scikit-learn in /usr/local/lib/python3.11/dist-packages (from gpytorch) (1.6.1)\n",
            "Requirement already satisfied: numpy>=1.7 in /usr/local/lib/python3.11/dist-packages (from pyro-ppl>=1.8.4->botorch) (2.0.2)\n",
            "Requirement already satisfied: opt-einsum>=2.3.2 in /usr/local/lib/python3.11/dist-packages (from pyro-ppl>=1.8.4->botorch) (3.4.0)\n",
            "Collecting pyro-api>=0.1.1 (from pyro-ppl>=1.8.4->botorch)\n",
            "  Downloading pyro_api-0.1.2-py3-none-any.whl.metadata (2.5 kB)\n",
            "Requirement already satisfied: tqdm>=4.36 in /usr/local/lib/python3.11/dist-packages (from pyro-ppl>=1.8.4->botorch) (4.67.1)\n",
            "Requirement already satisfied: filelock in /usr/local/lib/python3.11/dist-packages (from torch>=2.0.1->botorch) (3.18.0)\n",
            "Requirement already satisfied: networkx in /usr/local/lib/python3.11/dist-packages (from torch>=2.0.1->botorch) (3.4.2)\n",
            "Requirement already satisfied: jinja2 in /usr/local/lib/python3.11/dist-packages (from torch>=2.0.1->botorch) (3.1.6)\n",
            "Requirement already satisfied: fsspec in /usr/local/lib/python3.11/dist-packages (from torch>=2.0.1->botorch) (2025.3.2)\n",
            "Collecting nvidia-cuda-nvrtc-cu12==12.4.127 (from torch>=2.0.1->botorch)\n",
            "  Downloading nvidia_cuda_nvrtc_cu12-12.4.127-py3-none-manylinux2014_x86_64.whl.metadata (1.5 kB)\n",
            "Collecting nvidia-cuda-runtime-cu12==12.4.127 (from torch>=2.0.1->botorch)\n",
            "  Downloading nvidia_cuda_runtime_cu12-12.4.127-py3-none-manylinux2014_x86_64.whl.metadata (1.5 kB)\n",
            "Collecting nvidia-cuda-cupti-cu12==12.4.127 (from torch>=2.0.1->botorch)\n",
            "  Downloading nvidia_cuda_cupti_cu12-12.4.127-py3-none-manylinux2014_x86_64.whl.metadata (1.6 kB)\n",
            "Collecting nvidia-cudnn-cu12==9.1.0.70 (from torch>=2.0.1->botorch)\n",
            "  Downloading nvidia_cudnn_cu12-9.1.0.70-py3-none-manylinux2014_x86_64.whl.metadata (1.6 kB)\n",
            "Collecting nvidia-cublas-cu12==12.4.5.8 (from torch>=2.0.1->botorch)\n",
            "  Downloading nvidia_cublas_cu12-12.4.5.8-py3-none-manylinux2014_x86_64.whl.metadata (1.5 kB)\n",
            "Collecting nvidia-cufft-cu12==11.2.1.3 (from torch>=2.0.1->botorch)\n",
            "  Downloading nvidia_cufft_cu12-11.2.1.3-py3-none-manylinux2014_x86_64.whl.metadata (1.5 kB)\n",
            "Collecting nvidia-curand-cu12==10.3.5.147 (from torch>=2.0.1->botorch)\n",
            "  Downloading nvidia_curand_cu12-10.3.5.147-py3-none-manylinux2014_x86_64.whl.metadata (1.5 kB)\n",
            "Collecting nvidia-cusolver-cu12==11.6.1.9 (from torch>=2.0.1->botorch)\n",
            "  Downloading nvidia_cusolver_cu12-11.6.1.9-py3-none-manylinux2014_x86_64.whl.metadata (1.6 kB)\n",
            "Collecting nvidia-cusparse-cu12==12.3.1.170 (from torch>=2.0.1->botorch)\n",
            "  Downloading nvidia_cusparse_cu12-12.3.1.170-py3-none-manylinux2014_x86_64.whl.metadata (1.6 kB)\n",
            "Requirement already satisfied: nvidia-cusparselt-cu12==0.6.2 in /usr/local/lib/python3.11/dist-packages (from torch>=2.0.1->botorch) (0.6.2)\n",
            "Requirement already satisfied: nvidia-nccl-cu12==2.21.5 in /usr/local/lib/python3.11/dist-packages (from torch>=2.0.1->botorch) (2.21.5)\n",
            "Requirement already satisfied: nvidia-nvtx-cu12==12.4.127 in /usr/local/lib/python3.11/dist-packages (from torch>=2.0.1->botorch) (12.4.127)\n",
            "Collecting nvidia-nvjitlink-cu12==12.4.127 (from torch>=2.0.1->botorch)\n",
            "  Downloading nvidia_nvjitlink_cu12-12.4.127-py3-none-manylinux2014_x86_64.whl.metadata (1.5 kB)\n",
            "Requirement already satisfied: triton==3.2.0 in /usr/local/lib/python3.11/dist-packages (from torch>=2.0.1->botorch) (3.2.0)\n",
            "Requirement already satisfied: sympy==1.13.1 in /usr/local/lib/python3.11/dist-packages (from torch>=2.0.1->botorch) (1.13.1)\n",
            "Collecting wadler-lindig>=0.1.3 (from jaxtyping->gpytorch)\n",
            "  Downloading wadler_lindig-0.1.6-py3-none-any.whl.metadata (17 kB)\n",
            "Collecting typing-inspect (from pyre_extensions->botorch)\n",
            "  Downloading typing_inspect-0.9.0-py3-none-any.whl.metadata (1.5 kB)\n",
            "Requirement already satisfied: joblib>=1.2.0 in /usr/local/lib/python3.11/dist-packages (from scikit-learn->gpytorch) (1.5.0)\n",
            "Requirement already satisfied: MarkupSafe>=2.0 in /usr/local/lib/python3.11/dist-packages (from jinja2->torch>=2.0.1->botorch) (3.0.2)\n",
            "Collecting mypy-extensions>=0.3.0 (from typing-inspect->pyre_extensions->botorch)\n",
            "  Downloading mypy_extensions-1.1.0-py3-none-any.whl.metadata (1.1 kB)\n",
            "Downloading botorch-0.14.0-py3-none-any.whl (738 kB)\n",
            "\u001b[2K   \u001b[90m━━━━━━━━━━━━━━━━━━━━━━━━━━━━━━━━━━━━━━━━\u001b[0m \u001b[32m738.3/738.3 kB\u001b[0m \u001b[31m14.8 MB/s\u001b[0m eta \u001b[36m0:00:00\u001b[0m\n",
            "\u001b[?25hDownloading gpytorch-1.14-py3-none-any.whl (277 kB)\n",
            "\u001b[2K   \u001b[90m━━━━━━━━━━━━━━━━━━━━━━━━━━━━━━━━━━━━━━━━\u001b[0m \u001b[32m277.7/277.7 kB\u001b[0m \u001b[31m11.3 MB/s\u001b[0m eta \u001b[36m0:00:00\u001b[0m\n",
            "\u001b[?25hDownloading linear_operator-0.6-py3-none-any.whl (176 kB)\n",
            "\u001b[2K   \u001b[90m━━━━━━━━━━━━━━━━━━━━━━━━━━━━━━━━━━━━━━━━\u001b[0m \u001b[32m176.3/176.3 kB\u001b[0m \u001b[31m9.2 MB/s\u001b[0m eta \u001b[36m0:00:00\u001b[0m\n",
            "\u001b[?25hDownloading pyro_ppl-1.9.1-py3-none-any.whl (755 kB)\n",
            "\u001b[2K   \u001b[90m━━━━━━━━━━━━━━━━━━━━━━━━━━━━━━━━━━━━━━━━\u001b[0m \u001b[32m756.0/756.0 kB\u001b[0m \u001b[31m22.7 MB/s\u001b[0m eta \u001b[36m0:00:00\u001b[0m\n",
            "\u001b[?25hDownloading nvidia_cublas_cu12-12.4.5.8-py3-none-manylinux2014_x86_64.whl (363.4 MB)\n",
            "\u001b[2K   \u001b[90m━━━━━━━━━━━━━━━━━━━━━━━━━━━━━━━━━━━━━━━━\u001b[0m \u001b[32m363.4/363.4 MB\u001b[0m \u001b[31m4.2 MB/s\u001b[0m eta \u001b[36m0:00:00\u001b[0m\n",
            "\u001b[?25hDownloading nvidia_cuda_cupti_cu12-12.4.127-py3-none-manylinux2014_x86_64.whl (13.8 MB)\n",
            "\u001b[2K   \u001b[90m━━━━━━━━━━━━━━━━━━━━━━━━━━━━━━━━━━━━━━━━\u001b[0m \u001b[32m13.8/13.8 MB\u001b[0m \u001b[31m27.2 MB/s\u001b[0m eta \u001b[36m0:00:00\u001b[0m\n",
            "\u001b[?25hDownloading nvidia_cuda_nvrtc_cu12-12.4.127-py3-none-manylinux2014_x86_64.whl (24.6 MB)\n",
            "\u001b[2K   \u001b[90m━━━━━━━━━━━━━━━━━━━━━━━━━━━━━━━━━━━━━━━━\u001b[0m \u001b[32m24.6/24.6 MB\u001b[0m \u001b[31m18.7 MB/s\u001b[0m eta \u001b[36m0:00:00\u001b[0m\n",
            "\u001b[?25hDownloading nvidia_cuda_runtime_cu12-12.4.127-py3-none-manylinux2014_x86_64.whl (883 kB)\n",
            "\u001b[2K   \u001b[90m━━━━━━━━━━━━━━━━━━━━━━━━━━━━━━━━━━━━━━━━\u001b[0m \u001b[32m883.7/883.7 kB\u001b[0m \u001b[31m17.6 MB/s\u001b[0m eta \u001b[36m0:00:00\u001b[0m\n",
            "\u001b[?25hDownloading nvidia_cudnn_cu12-9.1.0.70-py3-none-manylinux2014_x86_64.whl (664.8 MB)\n",
            "\u001b[2K   \u001b[90m━━━━━━━━━━━━━━━━━━━━━━━━━━━━━━━━━━━━━━━━\u001b[0m \u001b[32m664.8/664.8 MB\u001b[0m \u001b[31m2.1 MB/s\u001b[0m eta \u001b[36m0:00:00\u001b[0m\n",
            "\u001b[?25hDownloading nvidia_cufft_cu12-11.2.1.3-py3-none-manylinux2014_x86_64.whl (211.5 MB)\n",
            "\u001b[2K   \u001b[90m━━━━━━━━━━━━━━━━━━━━━━━━━━━━━━━━━━━━━━━━\u001b[0m \u001b[32m211.5/211.5 MB\u001b[0m \u001b[31m5.6 MB/s\u001b[0m eta \u001b[36m0:00:00\u001b[0m\n",
            "\u001b[?25hDownloading nvidia_curand_cu12-10.3.5.147-py3-none-manylinux2014_x86_64.whl (56.3 MB)\n",
            "\u001b[2K   \u001b[90m━━━━━━━━━━━━━━━━━━━━━━━━━━━━━━━━━━━━━━━━\u001b[0m \u001b[32m56.3/56.3 MB\u001b[0m \u001b[31m10.4 MB/s\u001b[0m eta \u001b[36m0:00:00\u001b[0m\n",
            "\u001b[?25hDownloading nvidia_cusolver_cu12-11.6.1.9-py3-none-manylinux2014_x86_64.whl (127.9 MB)\n",
            "\u001b[2K   \u001b[90m━━━━━━━━━━━━━━━━━━━━━━━━━━━━━━━━━━━━━━━━\u001b[0m \u001b[32m127.9/127.9 MB\u001b[0m \u001b[31m7.4 MB/s\u001b[0m eta \u001b[36m0:00:00\u001b[0m\n",
            "\u001b[?25hDownloading nvidia_cusparse_cu12-12.3.1.170-py3-none-manylinux2014_x86_64.whl (207.5 MB)\n",
            "\u001b[2K   \u001b[90m━━━━━━━━━━━━━━━━━━━━━━━━━━━━━━━━━━━━━━━━\u001b[0m \u001b[32m207.5/207.5 MB\u001b[0m \u001b[31m6.1 MB/s\u001b[0m eta \u001b[36m0:00:00\u001b[0m\n",
            "\u001b[?25hDownloading nvidia_nvjitlink_cu12-12.4.127-py3-none-manylinux2014_x86_64.whl (21.1 MB)\n",
            "\u001b[2K   \u001b[90m━━━━━━━━━━━━━━━━━━━━━━━━━━━━━━━━━━━━━━━━\u001b[0m \u001b[32m21.1/21.1 MB\u001b[0m \u001b[31m87.6 MB/s\u001b[0m eta \u001b[36m0:00:00\u001b[0m\n",
            "\u001b[?25hDownloading jaxtyping-0.3.2-py3-none-any.whl (55 kB)\n",
            "\u001b[2K   \u001b[90m━━━━━━━━━━━━━━━━━━━━━━━━━━━━━━━━━━━━━━━━\u001b[0m \u001b[32m55.4/55.4 kB\u001b[0m \u001b[31m3.5 MB/s\u001b[0m eta \u001b[36m0:00:00\u001b[0m\n",
            "\u001b[?25hDownloading pyre_extensions-0.0.32-py3-none-any.whl (12 kB)\n",
            "Downloading pyro_api-0.1.2-py3-none-any.whl (11 kB)\n",
            "Downloading wadler_lindig-0.1.6-py3-none-any.whl (20 kB)\n",
            "Downloading typing_inspect-0.9.0-py3-none-any.whl (8.8 kB)\n",
            "Downloading mypy_extensions-1.1.0-py3-none-any.whl (5.0 kB)\n",
            "Installing collected packages: pyro-api, wadler-lindig, nvidia-nvjitlink-cu12, nvidia-curand-cu12, nvidia-cufft-cu12, nvidia-cuda-runtime-cu12, nvidia-cuda-nvrtc-cu12, nvidia-cuda-cupti-cu12, nvidia-cublas-cu12, mypy-extensions, typing-inspect, nvidia-cusparse-cu12, nvidia-cudnn-cu12, jaxtyping, pyre_extensions, nvidia-cusolver-cu12, pyro-ppl, linear_operator, gpytorch, botorch\n",
            "  Attempting uninstall: nvidia-nvjitlink-cu12\n",
            "    Found existing installation: nvidia-nvjitlink-cu12 12.5.82\n",
            "    Uninstalling nvidia-nvjitlink-cu12-12.5.82:\n",
            "      Successfully uninstalled nvidia-nvjitlink-cu12-12.5.82\n",
            "  Attempting uninstall: nvidia-curand-cu12\n",
            "    Found existing installation: nvidia-curand-cu12 10.3.6.82\n",
            "    Uninstalling nvidia-curand-cu12-10.3.6.82:\n",
            "      Successfully uninstalled nvidia-curand-cu12-10.3.6.82\n",
            "  Attempting uninstall: nvidia-cufft-cu12\n",
            "    Found existing installation: nvidia-cufft-cu12 11.2.3.61\n",
            "    Uninstalling nvidia-cufft-cu12-11.2.3.61:\n",
            "      Successfully uninstalled nvidia-cufft-cu12-11.2.3.61\n",
            "  Attempting uninstall: nvidia-cuda-runtime-cu12\n",
            "    Found existing installation: nvidia-cuda-runtime-cu12 12.5.82\n",
            "    Uninstalling nvidia-cuda-runtime-cu12-12.5.82:\n",
            "      Successfully uninstalled nvidia-cuda-runtime-cu12-12.5.82\n",
            "  Attempting uninstall: nvidia-cuda-nvrtc-cu12\n",
            "    Found existing installation: nvidia-cuda-nvrtc-cu12 12.5.82\n",
            "    Uninstalling nvidia-cuda-nvrtc-cu12-12.5.82:\n",
            "      Successfully uninstalled nvidia-cuda-nvrtc-cu12-12.5.82\n",
            "  Attempting uninstall: nvidia-cuda-cupti-cu12\n",
            "    Found existing installation: nvidia-cuda-cupti-cu12 12.5.82\n",
            "    Uninstalling nvidia-cuda-cupti-cu12-12.5.82:\n",
            "      Successfully uninstalled nvidia-cuda-cupti-cu12-12.5.82\n",
            "  Attempting uninstall: nvidia-cublas-cu12\n",
            "    Found existing installation: nvidia-cublas-cu12 12.5.3.2\n",
            "    Uninstalling nvidia-cublas-cu12-12.5.3.2:\n",
            "      Successfully uninstalled nvidia-cublas-cu12-12.5.3.2\n",
            "  Attempting uninstall: nvidia-cusparse-cu12\n",
            "    Found existing installation: nvidia-cusparse-cu12 12.5.1.3\n",
            "    Uninstalling nvidia-cusparse-cu12-12.5.1.3:\n",
            "      Successfully uninstalled nvidia-cusparse-cu12-12.5.1.3\n",
            "  Attempting uninstall: nvidia-cudnn-cu12\n",
            "    Found existing installation: nvidia-cudnn-cu12 9.3.0.75\n",
            "    Uninstalling nvidia-cudnn-cu12-9.3.0.75:\n",
            "      Successfully uninstalled nvidia-cudnn-cu12-9.3.0.75\n",
            "  Attempting uninstall: nvidia-cusolver-cu12\n",
            "    Found existing installation: nvidia-cusolver-cu12 11.6.3.83\n",
            "    Uninstalling nvidia-cusolver-cu12-11.6.3.83:\n",
            "      Successfully uninstalled nvidia-cusolver-cu12-11.6.3.83\n",
            "Successfully installed botorch-0.14.0 gpytorch-1.14 jaxtyping-0.3.2 linear_operator-0.6 mypy-extensions-1.1.0 nvidia-cublas-cu12-12.4.5.8 nvidia-cuda-cupti-cu12-12.4.127 nvidia-cuda-nvrtc-cu12-12.4.127 nvidia-cuda-runtime-cu12-12.4.127 nvidia-cudnn-cu12-9.1.0.70 nvidia-cufft-cu12-11.2.1.3 nvidia-curand-cu12-10.3.5.147 nvidia-cusolver-cu12-11.6.1.9 nvidia-cusparse-cu12-12.3.1.170 nvidia-nvjitlink-cu12-12.4.127 pyre_extensions-0.0.32 pyro-api-0.1.2 pyro-ppl-1.9.1 typing-inspect-0.9.0 wadler-lindig-0.1.6\n"
          ]
        }
      ]
    },
    {
      "cell_type": "markdown",
      "source": [
        "### Defining `synthetic_stability_metric()`"
      ],
      "metadata": {
        "id": "EEqFc_KuWfqw"
      }
    },
    {
      "cell_type": "code",
      "source": [
        "import numpy as np\n",
        "\n",
        "def synthetic_stability_metric(v):\n",
        "    \"\"\"\n",
        "    Compute a synthetic grid stability metric (total voltage violations) for a 13-bus feeder.\n",
        "\n",
        "    Parameters:\n",
        "        v (array-like of length 13): Solar PV injection at each bus (1 through 13) in watts.\n",
        "\n",
        "    Returns:\n",
        "        int: Total count of voltage violations (voltage < 0.95 or > 1.05 p.u.)\n",
        "             aggregated over a 10-step simulation of load/PV fluctuations.\n",
        "    \"\"\"\n",
        "    # Ensure input is a NumPy array of length 13\n",
        "    v = np.array(v, dtype=float).flatten()\n",
        "    assert v.size == 13, \"Input vector v must have length 13.\"\n",
        "\n",
        "    # Base loads at each bus (in watts). Index 0 corresponds to bus1 (slack, no load).\n",
        "    loads = np.array([0.0, 50e3, 30e3, 40e3, 20e3, 50e3, 20e3, 20e3, 10e3, 30e3, 20e3, 40e3, 50e3])\n",
        "\n",
        "    # Define the feeder's radial topology (tree structure) via parent-child relationships.\n",
        "    # children[parent_bus] = [list of child buses downstream of that parent].\n",
        "    children = {\n",
        "        1: [2],\n",
        "        2: [3, 5],\n",
        "        3: [4, 7],\n",
        "        4: [9],\n",
        "        5: [6],\n",
        "        6: [12],\n",
        "        7: [8],\n",
        "        8: [13],\n",
        "        9: [10, 11],\n",
        "        10: [], 11: [], 12: [], 13: []\n",
        "    }\n",
        "\n",
        "    # Line impedance values (representative resistance) for each branch,\n",
        "    # given as per-unit voltage drop per 100 kW of power flow.\n",
        "    # Stored as R_line[child] = R for the line connecting (parent -> child).\n",
        "    R_line = {\n",
        "        2: 0.010,   # Line from bus1->bus2\n",
        "        3: 0.015,   # bus2->bus3\n",
        "        4: 0.015,   # bus3->bus4 (end of main feeder)\n",
        "        5: 0.020,   # bus2->bus5 (start of a branch)\n",
        "        6: 0.020,   # bus5->bus6\n",
        "        7: 0.020,   # bus3->bus7 (start of another branch)\n",
        "        8: 0.030,   # bus7->bus8\n",
        "        9: 0.020,   # bus4->bus9 (branch off main feeder)\n",
        "        10: 0.020,  # bus9->bus10\n",
        "        11: 0.020,  # bus9->bus11\n",
        "        12: 0.020,  # bus6->bus12 (end of branch off bus6)\n",
        "        13: 0.030   # bus8->bus13 (end of branch off bus8)\n",
        "    }\n",
        "\n",
        "    # Line capacity (in watts) for each branch, above which congestion effects kick in.\n",
        "    # Chosen such that ~6% voltage drop occurs at the capacity flow (i.e., at capacity, R_line*flow ≈ 0.06 p.u.).\n",
        "    cap_line = {bus: (0.06 / R_line[bus]) * 100000.0 for bus in R_line}\n",
        "\n",
        "    # Factor by which voltage drop is increased when branch flow exceeds capacity (simulating severe drops due to congestion).\n",
        "    R_over_factor = 2.0\n",
        "\n",
        "    # Voltage limits for stability (per unit)\n",
        "    V_min = 0.95\n",
        "    V_max = 1.05\n",
        "\n",
        "    total_violations = 0  # initialize violation counter\n",
        "\n",
        "    # Define 10 time-step scenarios for dynamic simulation (load and PV fluctuations).\n",
        "    # We include worst-case extremes and random intermediate cases.\n",
        "    rng = np.random.RandomState(0)  # fixed seed for reproducibility\n",
        "    scenarios = [\n",
        "        (0.2, 1.2),   # Step 1: 20% PV output, 120% load (cloudy peak-load scenario – likely undervoltage)\n",
        "        (1.2, 0.8),   # Step 2: 120% PV output, 80% load (very sunny low-load scenario – likely overvoltage)\n",
        "        (1.0, 1.0)    # Step 3: 100% PV, 100% load (balanced scenario – PV roughly equals local load)\n",
        "    ]\n",
        "    # Add 7 random scenarios (Step 4-10) with PV and load scaling factors in given ranges\n",
        "    for _ in range(7):\n",
        "        pv_scale   = rng.uniform(0.5, 1.1)  # PV output factor (50% to 110% of given v)\n",
        "        load_scale = rng.uniform(0.9, 1.1)  # Load factor (90% to 110% of base load)\n",
        "        scenarios.append((pv_scale, load_scale))\n",
        "\n",
        "    # Simulate each time-step scenario\n",
        "    for pv_scale, load_scale in scenarios:\n",
        "        # Compute the effective PV injection and load at this time step\n",
        "        injection = v * pv_scale    # PV output scaled by pv_scale\n",
        "        load = loads * load_scale   # Load scaled by load_scale\n",
        "\n",
        "        # Net power at each bus = load - injection (positive if net consumption, negative if net generation)\n",
        "        # Use a dict for convenient access by bus number (buses indexed 1..13)\n",
        "        net = {bus: load[bus-1] - injection[bus-1] for bus in range(1, 14)}\n",
        "\n",
        "        # Recursively compute the total net power in each subtree of the feeder.\n",
        "        subtree_net = {}\n",
        "        def compute_subtree_net(node):\n",
        "            \"\"\"Return the sum of net power for all buses in the subtree rooted at `node`.\"\"\"\n",
        "            total = net[node]\n",
        "            for child in children[node]:\n",
        "                total += compute_subtree_net(child)\n",
        "            subtree_net[node] = total\n",
        "            return total\n",
        "\n",
        "        # Compute subtree net for the entire feeder (starting from the root's children).\n",
        "        # Bus 1 is the substation slack (root) – we start with its child (bus 2).\n",
        "        for child in children[1]:  # (Typically just bus2 for this feeder)\n",
        "            compute_subtree_net(child)\n",
        "        # We can also compute bus1’s subtree net (which equals total feeder net plus bus1’s own net)\n",
        "        subtree_net[1] = net[1] + sum(subtree_net[c] for c in children[1])\n",
        "\n",
        "        # Compute voltage at each bus via a depth-first traversal from the substation (bus1).\n",
        "        V = {}  # dictionary to store voltages per bus\n",
        "        def assign_voltage(node, V_parent):\n",
        "            \"\"\"\n",
        "            Assign voltage at `node` given parent voltage V_parent, using the power flow on the line (parent->node).\n",
        "            Voltage drop is proportional to flow and line impedance, with extra drop if capacity is exceeded.\n",
        "            \"\"\"\n",
        "            if node != 1:\n",
        "                # Power flow on line from parent to this node (positive = flow into node, negative = flow out from node)\n",
        "                P_flow = subtree_net[node]\n",
        "                R = R_line[node]       # line resistance (p.u. per 100 kW)\n",
        "                cap = cap_line[node]   # line capacity (W)\n",
        "                P0 = 100000.0          # base power for scaling (100 kW)\n",
        "                # Calculate normal voltage drop magnitude for this line\n",
        "                flow = abs(P_flow)\n",
        "                # Base drop for flow up to capacity\n",
        "                base_flow = flow if flow <= cap else cap\n",
        "                drop_base = R * (base_flow / P0)\n",
        "                # Additional drop if flow exceeds capacity (congestion penalty)\n",
        "                drop_extra = 0.0\n",
        "                if flow > cap:\n",
        "                    drop_extra = R_over_factor * R * ((flow - cap) / P0)\n",
        "                total_drop = drop_base + drop_extra\n",
        "                # Apply drop or rise depending on flow direction:\n",
        "                if P_flow >= 0:\n",
        "                    # Positive flow (net load downstream): voltage drops moving downstream\n",
        "                    V[node] = V_parent - total_drop\n",
        "                else:\n",
        "                    # Negative flow (net generation downstream): current flows upstream, causing a voltage rise at this node\n",
        "                    V[node] = V_parent + total_drop\n",
        "            else:\n",
        "                # Bus 1 is the slack (substation) with fixed voltage ~1.0 p.u.\n",
        "                V[node] = V_parent\n",
        "            # Recurse for all children of this node\n",
        "            for child in children[node]:\n",
        "                assign_voltage(child, V[node])\n",
        "\n",
        "        # Start voltage assignment from the root (bus1) at 1.0 p.u.\n",
        "        assign_voltage(node=1, V_parent=1.0)\n",
        "\n",
        "        # Count voltage violations at this time step (excluding bus1 which is held at 1.0 p.u.)\n",
        "        for bus in range(2, 14):\n",
        "            if V[bus] < V_min or V[bus] > V_max:\n",
        "                total_violations += 1\n",
        "\n",
        "    return int(total_violations)\n"
      ],
      "metadata": {
        "id": "t9_rqDSfWcPB"
      },
      "execution_count": 2,
      "outputs": []
    },
    {
      "cell_type": "markdown",
      "source": [
        "### Vanilla BO"
      ],
      "metadata": {
        "id": "hpwjEOwyWk1u"
      }
    },
    {
      "cell_type": "code",
      "source": [
        "import torch\n",
        "from botorch.models import SingleTaskGP\n",
        "from botorch.fit import fit_gpytorch_mll\n",
        "from botorch.acquisition.logei import qLogExpectedImprovement\n",
        "from botorch.optim import optimize_acqf\n",
        "from gpytorch.mlls import ExactMarginalLogLikelihood\n",
        "\n",
        "import numpy as np\n",
        "import matplotlib.pyplot as plt"
      ],
      "metadata": {
        "id": "FNTuw2CfWkVe"
      },
      "execution_count": 4,
      "outputs": []
    },
    {
      "cell_type": "code",
      "source": [
        "# Define objective as penalized `synthetic_stability_metric()` function\n",
        "max_capacity = 1e5 # 10 kW capacity max\n",
        "\n",
        "def objective(v: torch.Tensor) -> torch.Tensor:\n",
        "    penalty = 0 #(v.sum(dim=-1) > 1).float() * 1e6\n",
        "    results = []\n",
        "    for vec in v:\n",
        "        score = synthetic_stability_metric(vec.detach().numpy()*max_capacity)\n",
        "        results.append(score)\n",
        "    return -(torch.tensor(results).float().unsqueeze(-1) )#+ penalty.unsqueeze(-1))"
      ],
      "metadata": {
        "id": "HCAsbEfUYkgR"
      },
      "execution_count": 5,
      "outputs": []
    },
    {
      "cell_type": "code",
      "source": [
        "# Initial design\n",
        "dim = 13\n",
        "\n",
        "# Deifne dirichlet distribution to draw initial samples from\n",
        "# n_initial = 20\n",
        "# dirichlet = torch.distributions.Dirichlet(torch.ones(dim))\n",
        "# weights = dirichlet.sample((n_initial,))\n",
        "\n",
        "# train_x = (weights * torch.rand(n_initial, 1)).double()\n",
        "# train_obj = objective(train_x).double()\n",
        "\n",
        "from botorch.utils.sampling import draw_sobol_samples\n",
        "bounds = torch.tensor([[0.0] * dim, [1] * dim])\n",
        "train_x_vanilla = draw_sobol_samples(bounds=bounds, n=10, q=1).squeeze(1).double()\n",
        "train_obj = objective(train_x_vanilla).double()\n",
        "print(train_obj)"
      ],
      "metadata": {
        "colab": {
          "base_uri": "https://localhost:8080/"
        },
        "id": "fTahoueibT1f",
        "outputId": "59b641cb-091f-48de-b674-c3d262051790"
      },
      "execution_count": 6,
      "outputs": [
        {
          "output_type": "stream",
          "name": "stdout",
          "text": [
            "tensor([[-88.],\n",
            "        [-27.],\n",
            "        [-77.],\n",
            "        [-16.],\n",
            "        [-51.],\n",
            "        [-55.],\n",
            "        [-81.],\n",
            "        [-32.],\n",
            "        [-38.],\n",
            "        [-65.]], dtype=torch.float64)\n"
          ]
        }
      ]
    },
    {
      "cell_type": "code",
      "source": [
        "# BO loop\n",
        "n_iterations = 100\n",
        "best_values = []\n",
        "for i in range(n_iterations):\n",
        "    # Fit GP model\n",
        "    model = SingleTaskGP(train_x_vanilla, train_obj)\n",
        "    mll = ExactMarginalLogLikelihood(model.likelihood, model)\n",
        "    fit_gpytorch_mll(mll)\n",
        "\n",
        "    # Best value so far (maximize -f)\n",
        "    best_f = train_obj[train_obj < 0].max().item()\n",
        "\n",
        "    # Acquisition function\n",
        "    acq_func = qLogExpectedImprovement(model=model, best_f=best_f)\n",
        "\n",
        "    # Optimize in unit simplex (sum x_i <= 1)\n",
        "    inequality_constraints = [(torch.arange(dim), torch.ones(dim), 1.0)]\n",
        "\n",
        "    candidate, _ = optimize_acqf(\n",
        "        acq_function=acq_func,\n",
        "        bounds=bounds,\n",
        "        q=1,\n",
        "        num_restarts=10,\n",
        "        raw_samples=128,\n",
        "        #inequality_constraints=inequality_constraints\n",
        "    )\n",
        "\n",
        "    # Evaluate real objective (not negated)\n",
        "    y_new = objective(candidate).double()  # negate for minimization\n",
        "    #print(f\"{candidate=}\")\n",
        "    # Update training data\n",
        "    train_x_vanilla = torch.cat([train_x_vanilla, candidate], dim=0)\n",
        "    train_obj = torch.cat([train_obj, y_new], dim=0)\n",
        "\n",
        "    best_obj = train_obj.max().item()\n",
        "    best_values.append(best_obj)\n",
        "\n",
        "    #print(f\"Iter {i+1}: {best_obj=}\")"
      ],
      "metadata": {
        "id": "Yti7cKoplp1X"
      },
      "execution_count": null,
      "outputs": []
    },
    {
      "cell_type": "code",
      "source": [
        "plt.plot([-value for value in best_values])\n",
        "plt.title(\"Vanilla BO\")\n",
        "plt.ylabel(\"# of Line Violations\")\n",
        "plt.xlabel(\"Epoch\")\n",
        "plt.show()"
      ],
      "metadata": {
        "colab": {
          "base_uri": "https://localhost:8080/",
          "height": 472
        },
        "id": "ir_4q4hLwkjX",
        "outputId": "50f039ac-98c1-4cad-c8b2-90937cced356"
      },
      "execution_count": null,
      "outputs": [
        {
          "output_type": "display_data",
          "data": {
            "text/plain": [
              "<Figure size 640x480 with 1 Axes>"
            ],
            "image/png": "[encoded data removed]"
          },
          "metadata": {}
        }
      ]
    },
    {
      "cell_type": "code",
      "source": [
        "best_vanilla = train_x_vanilla[0]\n",
        "best_vanilla_obj = objective(best_vanilla.unsqueeze(0)).item()\n",
        "\n",
        "for v in train_x_vanilla:\n",
        "    v_obj = objective(v.unsqueeze(0)).item()\n",
        "    if v_obj > best_vanilla_obj:\n",
        "        best_vanilla = v\n",
        "        best_vanilla_obj = v_obj\n",
        "\n",
        "print(best_vanilla*max_capacity, best_vanilla_obj)\n"
      ],
      "metadata": {
        "colab": {
          "base_uri": "https://localhost:8080/"
        },
        "id": "CgdNn3XH594V",
        "outputId": "9743eabb-6a18-4355-cddb-1369c7690d69"
      },
      "execution_count": null,
      "outputs": [
        {
          "output_type": "stream",
          "name": "stdout",
          "text": [
            "tensor([ 39073.9471,  34184.0178,      0.0000,  41915.2886, 100000.0000,\n",
            "         22222.6426,  13304.7923,  81303.4236,      0.0000,   8727.9439,\n",
            "         24611.8098,  37378.6062,  12358.5247], dtype=torch.float64) -11.0\n"
          ]
        }
      ]
    },
    {
      "cell_type": "markdown",
      "source": [
        "### SAASBO"
      ],
      "metadata": {
        "id": "E1DFOChQ63Pj"
      }
    },
    {
      "cell_type": "code",
      "source": [
        "!pip install -U botorch"
      ],
      "metadata": {
        "colab": {
          "base_uri": "https://localhost:8080/"
        },
        "collapsed": true,
        "id": "3s82K6m17qZB",
        "outputId": "b9fb4515-8874-4cad-9b0d-94a2169c09a9"
      },
      "execution_count": null,
      "outputs": [
        {
          "output_type": "stream",
          "name": "stdout",
          "text": [
            "Requirement already satisfied: botorch in /usr/local/lib/python3.11/dist-packages (0.14.0)\n",
            "Requirement already satisfied: typing_extensions in /usr/local/lib/python3.11/dist-packages (from botorch) (4.13.2)\n",
            "Requirement already satisfied: pyre_extensions in /usr/local/lib/python3.11/dist-packages (from botorch) (0.0.32)\n",
            "Requirement already satisfied: gpytorch==1.14 in /usr/local/lib/python3.11/dist-packages (from botorch) (1.14)\n",
            "Requirement already satisfied: linear_operator==0.6 in /usr/local/lib/python3.11/dist-packages (from botorch) (0.6)\n",
            "Requirement already satisfied: torch>=2.0.1 in /usr/local/lib/python3.11/dist-packages (from botorch) (2.6.0+cu124)\n",
            "Requirement already satisfied: pyro-ppl>=1.8.4 in /usr/local/lib/python3.11/dist-packages (from botorch) (1.9.1)\n",
            "Requirement already satisfied: scipy in /usr/local/lib/python3.11/dist-packages (from botorch) (1.15.2)\n",
            "Requirement already satisfied: multipledispatch in /usr/local/lib/python3.11/dist-packages (from botorch) (1.0.0)\n",
            "Requirement already satisfied: threadpoolctl in /usr/local/lib/python3.11/dist-packages (from botorch) (3.6.0)\n",
            "Requirement already satisfied: jaxtyping in /usr/local/lib/python3.11/dist-packages (from gpytorch==1.14->botorch) (0.3.2)\n",
            "Requirement already satisfied: mpmath<=1.3,>=0.19 in /usr/local/lib/python3.11/dist-packages (from gpytorch==1.14->botorch) (1.3.0)\n",
            "Requirement already satisfied: scikit-learn in /usr/local/lib/python3.11/dist-packages (from gpytorch==1.14->botorch) (1.6.1)\n",
            "Requirement already satisfied: numpy>=1.7 in /usr/local/lib/python3.11/dist-packages (from pyro-ppl>=1.8.4->botorch) (2.0.2)\n",
            "Requirement already satisfied: opt-einsum>=2.3.2 in /usr/local/lib/python3.11/dist-packages (from pyro-ppl>=1.8.4->botorch) (3.4.0)\n",
            "Requirement already satisfied: pyro-api>=0.1.1 in /usr/local/lib/python3.11/dist-packages (from pyro-ppl>=1.8.4->botorch) (0.1.2)\n",
            "Requirement already satisfied: tqdm>=4.36 in /usr/local/lib/python3.11/dist-packages (from pyro-ppl>=1.8.4->botorch) (4.67.1)\n",
            "Requirement already satisfied: filelock in /usr/local/lib/python3.11/dist-packages (from torch>=2.0.1->botorch) (3.18.0)\n",
            "Requirement already satisfied: networkx in /usr/local/lib/python3.11/dist-packages (from torch>=2.0.1->botorch) (3.4.2)\n",
            "Requirement already satisfied: jinja2 in /usr/local/lib/python3.11/dist-packages (from torch>=2.0.1->botorch) (3.1.6)\n",
            "Requirement already satisfied: fsspec in /usr/local/lib/python3.11/dist-packages (from torch>=2.0.1->botorch) (2025.3.2)\n",
            "Requirement already satisfied: nvidia-cuda-nvrtc-cu12==12.4.127 in /usr/local/lib/python3.11/dist-packages (from torch>=2.0.1->botorch) (12.4.127)\n",
            "Requirement already satisfied: nvidia-cuda-runtime-cu12==12.4.127 in /usr/local/lib/python3.11/dist-packages (from torch>=2.0.1->botorch) (12.4.127)\n",
            "Requirement already satisfied: nvidia-cuda-cupti-cu12==12.4.127 in /usr/local/lib/python3.11/dist-packages (from torch>=2.0.1->botorch) (12.4.127)\n",
            "Requirement already satisfied: nvidia-cudnn-cu12==9.1.0.70 in /usr/local/lib/python3.11/dist-packages (from torch>=2.0.1->botorch) (9.1.0.70)\n",
            "Requirement already satisfied: nvidia-cublas-cu12==12.4.5.8 in /usr/local/lib/python3.11/dist-packages (from torch>=2.0.1->botorch) (12.4.5.8)\n",
            "Requirement already satisfied: nvidia-cufft-cu12==11.2.1.3 in /usr/local/lib/python3.11/dist-packages (from torch>=2.0.1->botorch) (11.2.1.3)\n",
            "Requirement already satisfied: nvidia-curand-cu12==10.3.5.147 in /usr/local/lib/python3.11/dist-packages (from torch>=2.0.1->botorch) (10.3.5.147)\n",
            "Requirement already satisfied: nvidia-cusolver-cu12==11.6.1.9 in /usr/local/lib/python3.11/dist-packages (from torch>=2.0.1->botorch) (11.6.1.9)\n",
            "Requirement already satisfied: nvidia-cusparse-cu12==12.3.1.170 in /usr/local/lib/python3.11/dist-packages (from torch>=2.0.1->botorch) (12.3.1.170)\n",
            "Requirement already satisfied: nvidia-cusparselt-cu12==0.6.2 in /usr/local/lib/python3.11/dist-packages (from torch>=2.0.1->botorch) (0.6.2)\n",
            "Requirement already satisfied: nvidia-nccl-cu12==2.21.5 in /usr/local/lib/python3.11/dist-packages (from torch>=2.0.1->botorch) (2.21.5)\n",
            "Requirement already satisfied: nvidia-nvtx-cu12==12.4.127 in /usr/local/lib/python3.11/dist-packages (from torch>=2.0.1->botorch) (12.4.127)\n",
            "Requirement already satisfied: nvidia-nvjitlink-cu12==12.4.127 in /usr/local/lib/python3.11/dist-packages (from torch>=2.0.1->botorch) (12.4.127)\n",
            "Requirement already satisfied: triton==3.2.0 in /usr/local/lib/python3.11/dist-packages (from torch>=2.0.1->botorch) (3.2.0)\n",
            "Requirement already satisfied: sympy==1.13.1 in /usr/local/lib/python3.11/dist-packages (from torch>=2.0.1->botorch) (1.13.1)\n",
            "Requirement already satisfied: typing-inspect in /usr/local/lib/python3.11/dist-packages (from pyre_extensions->botorch) (0.9.0)\n",
            "Requirement already satisfied: wadler-lindig>=0.1.3 in /usr/local/lib/python3.11/dist-packages (from jaxtyping->gpytorch==1.14->botorch) (0.1.5)\n",
            "Requirement already satisfied: MarkupSafe>=2.0 in /usr/local/lib/python3.11/dist-packages (from jinja2->torch>=2.0.1->botorch) (3.0.2)\n",
            "Requirement already satisfied: joblib>=1.2.0 in /usr/local/lib/python3.11/dist-packages (from scikit-learn->gpytorch==1.14->botorch) (1.5.0)\n",
            "Requirement already satisfied: mypy-extensions>=0.3.0 in /usr/local/lib/python3.11/dist-packages (from typing-inspect->pyre_extensions->botorch) (1.1.0)\n"
          ]
        }
      ]
    },
    {
      "cell_type": "code",
      "source": [
        "import torch\n",
        "from botorch.models.fully_bayesian import SaasFullyBayesianSingleTaskGP\n",
        "from botorch.fit import fit_fully_bayesian_model_nuts\n",
        "from botorch.acquisition.logei import qLogExpectedImprovement\n",
        "from botorch.sampling import SobolQMCNormalSampler\n",
        "from botorch.optim import optimize_acqf\n",
        "from botorch.utils.sampling import draw_sobol_samples"
      ],
      "metadata": {
        "id": "_5shpCwv67kU"
      },
      "execution_count": null,
      "outputs": []
    },
    {
      "cell_type": "code",
      "source": [
        "# Configuration\n",
        "dim = 13\n",
        "bounds = torch.stack([torch.zeros(dim), torch.ones(dim)])\n",
        "n_initial_points = 10\n",
        "n_iterations = 10\n",
        "\n",
        "# Initial design\n",
        "train_x = draw_sobol_samples(bounds=bounds, n=n_initial_points, q=1).squeeze(1).double()\n",
        "train_obj = objective(train_x).double()\n",
        "best_saasbo_values = []\n",
        "\n",
        "# Optimization loop\n",
        "for i in range(n_iterations):\n",
        "    print(f\"Iteration {i+1}\")\n",
        "\n",
        "    # Fit SAAS model\n",
        "    model = SaasFullyBayesianSingleTaskGP(train_x, train_obj)\n",
        "    fit_fully_bayesian_model_nuts(model)\n",
        "\n",
        "    # Acquisition function\n",
        "    sampler = SobolQMCNormalSampler(sample_shape=torch.Size([128]))\n",
        "    # Best value so far (maximize -f)\n",
        "    best_f = train_obj[train_obj < 0].max().item()\n",
        "    acq_func = qLogExpectedImprovement(model=model, best_f = best_f)\n",
        "\n",
        "    # Optimize acquisition function\n",
        "    candidate, _ = optimize_acqf(\n",
        "        acq_function=acq_func,\n",
        "        bounds=bounds,\n",
        "        q=1,\n",
        "        num_restarts=10,\n",
        "        raw_samples=128,\n",
        "    )\n",
        "\n",
        "    # Evaluate new candidate\n",
        "    y_new = objective(candidate).double()\n",
        "    print(f\"  New obj: {y_new.item():.4f}\")\n",
        "\n",
        "    # Update training data\n",
        "    train_x = torch.cat([train_x, candidate], dim=0)\n",
        "    train_obj = torch.cat([train_obj, y_new], dim=0)\n",
        "\n",
        "    # Report best value so far\n",
        "    best = train_obj.max().item()\n",
        "    best_saasbo_values.append(best)\n",
        "    print(f\"  Best obj so far: {best:.4f}\")"
      ],
      "metadata": {
        "colab": {
          "base_uri": "https://localhost:8080/"
        },
        "id": "boPH48FX6_Nw",
        "outputId": "c33e8c1e-3eea-4203-d72f-4643a56ce5db"
      },
      "execution_count": null,
      "outputs": [
        {
          "output_type": "stream",
          "name": "stderr",
          "text": [
            "/usr/local/lib/python3.11/dist-packages/botorch/models/utils/assorted.py:273: InputDataWarning: Data (outcome observations) is not standardized (std = tensor([18.7617], dtype=torch.float64), mean = tensor([-51.], dtype=torch.float64)).Please consider scaling the input to zero mean and unit variance.\n",
            "  check_standardization(Y=train_Y, raise_on_fail=raise_on_fail)\n"
          ]
        },
        {
          "output_type": "stream",
          "name": "stdout",
          "text": [
            "Iteration 1\n"
          ]
        },
        {
          "output_type": "stream",
          "name": "stderr",
          "text": [
            "Sample: 100%|██████████| 768/768 [01:48,  7.06it/s, step size=3.09e-01, acc. prob=0.911]\n",
            "/usr/local/lib/python3.11/dist-packages/botorch/models/utils/assorted.py:273: InputDataWarning: Data (outcome observations) is not standardized (std = tensor([18.6079], dtype=torch.float64), mean = tensor([-49.3636], dtype=torch.float64)).Please consider scaling the input to zero mean and unit variance.\n",
            "  check_standardization(Y=train_Y, raise_on_fail=raise_on_fail)\n"
          ]
        },
        {
          "output_type": "stream",
          "name": "stdout",
          "text": [
            "  New obj: -33.0000\n",
            "  Best obj so far: -19.0000\n",
            "Iteration 2\n"
          ]
        },
        {
          "output_type": "stream",
          "name": "stderr",
          "text": [
            "Sample: 100%|██████████| 768/768 [01:54,  6.68it/s, step size=2.80e-01, acc. prob=0.912]\n",
            "/usr/local/lib/python3.11/dist-packages/botorch/models/utils/assorted.py:273: InputDataWarning: Data (outcome observations) is not standardized (std = tensor([17.7551], dtype=torch.float64), mean = tensor([-49.1667], dtype=torch.float64)).Please consider scaling the input to zero mean and unit variance.\n",
            "  check_standardization(Y=train_Y, raise_on_fail=raise_on_fail)\n"
          ]
        },
        {
          "output_type": "stream",
          "name": "stdout",
          "text": [
            "  New obj: -47.0000\n",
            "  Best obj so far: -19.0000\n",
            "Iteration 3\n"
          ]
        },
        {
          "output_type": "stream",
          "name": "stderr",
          "text": [
            "Sample: 100%|██████████| 768/768 [02:28,  5.16it/s, step size=1.85e-01, acc. prob=0.927]\n",
            "/usr/local/lib/python3.11/dist-packages/botorch/models/utils/assorted.py:273: InputDataWarning: Data (outcome observations) is not standardized (std = tensor([17.5572], dtype=torch.float64), mean = tensor([-50.3846], dtype=torch.float64)).Please consider scaling the input to zero mean and unit variance.\n",
            "  check_standardization(Y=train_Y, raise_on_fail=raise_on_fail)\n"
          ]
        },
        {
          "output_type": "stream",
          "name": "stdout",
          "text": [
            "  New obj: -65.0000\n",
            "  Best obj so far: -19.0000\n",
            "Iteration 4\n"
          ]
        },
        {
          "output_type": "stream",
          "name": "stderr",
          "text": [
            "Sample: 100%|██████████| 768/768 [02:17,  5.59it/s, step size=1.97e-01, acc. prob=0.940]\n",
            "/usr/local/lib/python3.11/dist-packages/botorch/models/utils/assorted.py:273: InputDataWarning: Data (outcome observations) is not standardized (std = tensor([19.2388], dtype=torch.float64), mean = tensor([-52.8571], dtype=torch.float64)).Please consider scaling the input to zero mean and unit variance.\n",
            "  check_standardization(Y=train_Y, raise_on_fail=raise_on_fail)\n"
          ]
        },
        {
          "output_type": "stream",
          "name": "stdout",
          "text": [
            "  New obj: -85.0000\n",
            "  Best obj so far: -19.0000\n",
            "Iteration 5\n"
          ]
        },
        {
          "output_type": "stream",
          "name": "stderr",
          "text": [
            "Sample: 100%|██████████| 768/768 [02:14,  5.71it/s, step size=1.95e-01, acc. prob=0.936]\n",
            "/usr/local/lib/python3.11/dist-packages/botorch/models/utils/assorted.py:273: InputDataWarning: Data (outcome observations) is not standardized (std = tensor([18.9317], dtype=torch.float64), mean = tensor([-51.8667], dtype=torch.float64)).Please consider scaling the input to zero mean and unit variance.\n",
            "  check_standardization(Y=train_Y, raise_on_fail=raise_on_fail)\n"
          ]
        },
        {
          "output_type": "stream",
          "name": "stdout",
          "text": [
            "  New obj: -38.0000\n",
            "  Best obj so far: -19.0000\n",
            "Iteration 6\n"
          ]
        },
        {
          "output_type": "stream",
          "name": "stderr",
          "text": [
            "Sample: 100%|██████████| 768/768 [02:19,  5.52it/s, step size=2.04e-01, acc. prob=0.954]\n",
            "/usr/local/lib/python3.11/dist-packages/botorch/models/utils/assorted.py:273: InputDataWarning: Data (outcome observations) is not standardized (std = tensor([18.7150], dtype=torch.float64), mean = tensor([-50.8750], dtype=torch.float64)).Please consider scaling the input to zero mean and unit variance.\n",
            "  check_standardization(Y=train_Y, raise_on_fail=raise_on_fail)\n"
          ]
        },
        {
          "output_type": "stream",
          "name": "stdout",
          "text": [
            "  New obj: -36.0000\n",
            "  Best obj so far: -19.0000\n",
            "Iteration 7\n"
          ]
        },
        {
          "output_type": "stream",
          "name": "stderr",
          "text": [
            "Sample: 100%|██████████| 768/768 [02:33,  5.01it/s, step size=1.57e-01, acc. prob=0.950]\n",
            "/usr/local/lib/python3.11/dist-packages/botorch/models/utils/assorted.py:273: InputDataWarning: Data (outcome observations) is not standardized (std = tensor([18.1483], dtype=torch.float64), mean = tensor([-51.1176], dtype=torch.float64)).Please consider scaling the input to zero mean and unit variance.\n",
            "  check_standardization(Y=train_Y, raise_on_fail=raise_on_fail)\n"
          ]
        },
        {
          "output_type": "stream",
          "name": "stdout",
          "text": [
            "  New obj: -55.0000\n",
            "  Best obj so far: -19.0000\n",
            "Iteration 8\n"
          ]
        },
        {
          "output_type": "stream",
          "name": "stderr",
          "text": [
            "Sample: 100%|██████████| 768/768 [02:48,  4.55it/s, step size=1.72e-01, acc. prob=0.926]\n",
            "/usr/local/lib/python3.11/dist-packages/botorch/models/utils/assorted.py:273: InputDataWarning: Data (outcome observations) is not standardized (std = tensor([19.0730], dtype=torch.float64), mean = tensor([-49.3889], dtype=torch.float64)).Please consider scaling the input to zero mean and unit variance.\n",
            "  check_standardization(Y=train_Y, raise_on_fail=raise_on_fail)\n"
          ]
        },
        {
          "output_type": "stream",
          "name": "stdout",
          "text": [
            "  New obj: -20.0000\n",
            "  Best obj so far: -19.0000\n",
            "Iteration 9\n"
          ]
        },
        {
          "output_type": "stream",
          "name": "stderr",
          "text": [
            "Sample: 100%|██████████| 768/768 [02:55,  4.37it/s, step size=1.46e-01, acc. prob=0.932]\n",
            "/usr/local/lib/python3.11/dist-packages/botorch/models/utils/assorted.py:273: InputDataWarning: Data (outcome observations) is not standardized (std = tensor([18.6406], dtype=torch.float64), mean = tensor([-49.8421], dtype=torch.float64)).Please consider scaling the input to zero mean and unit variance.\n",
            "  check_standardization(Y=train_Y, raise_on_fail=raise_on_fail)\n"
          ]
        },
        {
          "output_type": "stream",
          "name": "stdout",
          "text": [
            "  New obj: -58.0000\n",
            "  Best obj so far: -19.0000\n",
            "Iteration 10\n"
          ]
        },
        {
          "output_type": "stream",
          "name": "stderr",
          "text": [
            "Sample: 100%|██████████| 768/768 [02:13,  5.77it/s, step size=3.85e-01, acc. prob=0.900]\n"
          ]
        },
        {
          "output_type": "stream",
          "name": "stdout",
          "text": [
            "  New obj: -26.0000\n",
            "  Best obj so far: -19.0000\n"
          ]
        }
      ]
    },
    {
      "cell_type": "code",
      "source": [
        "plt.plot([-value for value in best_saasbo_values])\n",
        "plt.title(\"SAASBO\")\n",
        "plt.ylabel(\"# of Line Violations\")\n",
        "plt.xlabel(\"Epoch\")\n",
        "plt.show()"
      ],
      "metadata": {
        "colab": {
          "base_uri": "https://localhost:8080/",
          "height": 472
        },
        "id": "wPfCWG4wBoOM",
        "outputId": "1c9a90dc-f725-413b-f3c1-1a1fdaebe1da"
      },
      "execution_count": null,
      "outputs": [
        {
          "output_type": "display_data",
          "data": {
            "text/plain": [
              "<Figure size 640x480 with 1 Axes>"
            ],
            "image/png": "[encoded data removed]"
          },
          "metadata": {}
        }
      ]
    },
    {
      "cell_type": "markdown",
      "source": [
        "### Multiobjective BO"
      ],
      "metadata": {
        "id": "Im_Ua3FGYG80"
      }
    },
    {
      "cell_type": "code",
      "source": [
        "import torch\n",
        "from botorch.models import SingleTaskGP\n",
        "from botorch.fit import fit_gpytorch_mll\n",
        "from botorch.utils import standardize\n",
        "from gpytorch.mlls import ExactMarginalLogLikelihood\n",
        "from botorch.acquisition.multi_objective import ExpectedHypervolumeImprovement\n",
        "from botorch.utils.multi_objective.box_decompositions.non_dominated import NondominatedPartitioning\n",
        "from botorch.optim import optimize_acqf\n",
        "from botorch.utils.multi_objective.scalarization import get_chebyshev_scalarization\n",
        "from botorch.utils.sampling import draw_sobol_samples\n",
        "from botorch.utils.transforms import unnormalize\n",
        "from botorch.models.model_list_gp_regression import ModelListGP"
      ],
      "metadata": {
        "id": "I2Er3iOAcYZI"
      },
      "execution_count": null,
      "outputs": []
    },
    {
      "cell_type": "code",
      "source": [
        "# Problem setup\n",
        "dim = 13  # Input dimensions\n",
        "num_objectives = 2  # Number of objectives\n",
        "n_init = 10  # Number of initial points\n",
        "n_iterations = 30  # Number of optimization iterations\n",
        "\n",
        "# Define bounds for the search space\n",
        "bounds = torch.stack([torch.zeros(dim), torch.ones(dim)]).double()\n",
        "\n",
        "# Define objective functions (you need to define these)\n",
        "def building_cost(v: torch.Tensor) -> torch.Tensor:\n",
        "    results = []\n",
        "    for vec in v:\n",
        "        active_mask = vec > 1e-3\n",
        "        fixed_cost = 500_000 * active_mask.sum().item()\n",
        "        variable_cost = vec.sum().item()*max_capacity\n",
        "        total_cost = fixed_cost + variable_cost\n",
        "        results.append(total_cost)\n",
        "    return torch.tensor(results).float().unsqueeze(-1)\n",
        "\n",
        "# Define combined multiobjective function\n",
        "def multiobjective_function(X):\n",
        "    cost = building_cost(X).view(-1, 1)  # Make it 2D\n",
        "    obj = objective(X).view(-1, 1)       # Make it 2D\n",
        "    return torch.cat([-cost, obj], dim=-1)  # Negative cost for maximization\n",
        "\n",
        "# Initial sampling\n",
        "# Ensure float32 dtype\n",
        "train_X = 0.2*draw_sobol_samples(bounds=bounds, n=n_init, q=1).squeeze(1).to(torch.float32)\n",
        "train_Y = multiobjective_function(train_X)\n",
        "\n",
        "# Make sure ref_point is same dtype as train_Y\n",
        "ref_point = torch.zeros(2, dtype=train_Y.dtype)\n",
        "\n",
        "# Optimization loop\n",
        "for iteration in range(n_iterations):\n",
        "    # 1. Fit models for each objective\n",
        "    models = []\n",
        "    for i in range(num_objectives):\n",
        "        # Standardize outputs for better numerical performance\n",
        "        # Extract the objective values for this specific objective\n",
        "        train_Y_i = train_Y[:, i].unsqueeze(-1)  # Keep as 2D tensor\n",
        "\n",
        "        # Standardize these values (outputs standard deviation of 1)\n",
        "        std_train_Y_i = standardize(train_Y_i)\n",
        "\n",
        "        # Define and fit GP model\n",
        "        model_i = SingleTaskGP(train_X.double(), std_train_Y_i.double())\n",
        "        mll_i = ExactMarginalLogLikelihood(model_i.likelihood, model_i)\n",
        "        fit_gpytorch_mll(mll_i)\n",
        "        models.append(model_i)\n",
        "\n",
        "    # 2. Define acquisition function\n",
        "    # Create a partitioning of the non-dominated space\n",
        "    partitioning = NondominatedPartitioning(ref_point=ref_point, Y=train_Y)\n",
        "\n",
        "    # Create EHVI acquisition function\n",
        "    model = ModelListGP(*models)\n",
        "    model.eval()\n",
        "\n",
        "    acq_func = ExpectedHypervolumeImprovement(\n",
        "        model=model,\n",
        "        ref_point=ref_point,\n",
        "        partitioning=partitioning\n",
        "    )\n",
        "\n",
        "    # 3. Optimize acquisition function\n",
        "    candidate, acq_value = optimize_acqf(\n",
        "        acq_function=acq_func,\n",
        "        bounds=bounds,\n",
        "        q=2,  # Batch size\n",
        "        num_restarts=20,\n",
        "        raw_samples=1024,\n",
        "    )\n",
        "\n",
        "    # Ensure candidate has the same dtype as train_X\n",
        "    candidate = candidate.to(train_X.dtype)\n",
        "\n",
        "    # 4. Evaluate new candidate\n",
        "    new_Y = multiobjective_function(candidate)\n",
        "\n",
        "    # 5. Update training data\n",
        "    train_X = torch.cat([train_X, candidate])\n",
        "    train_Y = torch.cat([train_Y, new_Y])\n",
        "\n",
        "    # Print progress - here we're showing the best values for each objective separately\n",
        "    best_values = []\n",
        "    for i in range(num_objectives):\n",
        "        # For first objective (cost) we want minimum (maximum of negative)\n",
        "        # For second objective we want maximum\n",
        "        best_values.append(train_Y[:, i].max().item())\n",
        "\n",
        "    print(f\"Iteration {iteration+1}/{n_iterations}: Best values = {best_values}\")\n",
        "\n",
        "# Extract Pareto front\n",
        "pareto_mask = torch.ones(train_Y.shape[0], dtype=torch.bool)\n",
        "for i in range(train_Y.shape[0]):\n",
        "    for j in range(train_Y.shape[0]):\n",
        "        if i != j and torch.all(train_Y[j] >= train_Y[i]) and torch.any(train_Y[j] > train_Y[i]):\n",
        "            pareto_mask[i] = False\n",
        "            break\n",
        "\n",
        "pareto_X = train_X[pareto_mask]\n",
        "pareto_Y = train_Y[pareto_mask]\n",
        "\n",
        "print(\"Optimization complete!\")\n",
        "print(f\"Found {pareto_Y.shape[0]} Pareto-optimal points\")"
      ],
      "metadata": {
        "colab": {
          "base_uri": "https://localhost:8080/"
        },
        "id": "93HV5gw4cZHO",
        "outputId": "1175f990-30a3-4c83-eeda-94da158ddacc"
      },
      "execution_count": null,
      "outputs": [
        {
          "output_type": "stream",
          "name": "stderr",
          "text": [
            "/usr/local/lib/python3.11/dist-packages/botorch/acquisition/multi_objective/analytic.py:90: UserWarning: To copy construct from a tensor, it is recommended to use sourceTensor.clone().detach() or sourceTensor.clone().detach().requires_grad_(True), rather than torch.tensor(sourceTensor).\n",
            "  ref_point = torch.tensor(\n"
          ]
        },
        {
          "output_type": "stream",
          "name": "stdout",
          "text": [
            "Iteration 1/30: Best values = [-6085180.0, -61.0]\n"
          ]
        },
        {
          "output_type": "stream",
          "name": "stderr",
          "text": [
            "/usr/local/lib/python3.11/dist-packages/botorch/acquisition/multi_objective/analytic.py:90: UserWarning: To copy construct from a tensor, it is recommended to use sourceTensor.clone().detach() or sourceTensor.clone().detach().requires_grad_(True), rather than torch.tensor(sourceTensor).\n",
            "  ref_point = torch.tensor(\n"
          ]
        },
        {
          "output_type": "stream",
          "name": "stdout",
          "text": [
            "Iteration 2/30: Best values = [-5714944.5, -35.0]\n"
          ]
        },
        {
          "output_type": "stream",
          "name": "stderr",
          "text": [
            "/usr/local/lib/python3.11/dist-packages/botorch/acquisition/multi_objective/analytic.py:90: UserWarning: To copy construct from a tensor, it is recommended to use sourceTensor.clone().detach() or sourceTensor.clone().detach().requires_grad_(True), rather than torch.tensor(sourceTensor).\n",
            "  ref_point = torch.tensor(\n"
          ]
        },
        {
          "output_type": "stream",
          "name": "stdout",
          "text": [
            "Iteration 3/30: Best values = [-5714944.5, -14.0]\n"
          ]
        },
        {
          "output_type": "stream",
          "name": "stderr",
          "text": [
            "/usr/local/lib/python3.11/dist-packages/botorch/acquisition/multi_objective/analytic.py:90: UserWarning: To copy construct from a tensor, it is recommended to use sourceTensor.clone().detach() or sourceTensor.clone().detach().requires_grad_(True), rather than torch.tensor(sourceTensor).\n",
            "  ref_point = torch.tensor(\n"
          ]
        },
        {
          "output_type": "stream",
          "name": "stdout",
          "text": [
            "Iteration 4/30: Best values = [-5714944.5, -12.0]\n"
          ]
        },
        {
          "output_type": "stream",
          "name": "stderr",
          "text": [
            "/usr/local/lib/python3.11/dist-packages/botorch/acquisition/multi_objective/analytic.py:90: UserWarning: To copy construct from a tensor, it is recommended to use sourceTensor.clone().detach() or sourceTensor.clone().detach().requires_grad_(True), rather than torch.tensor(sourceTensor).\n",
            "  ref_point = torch.tensor(\n"
          ]
        },
        {
          "output_type": "stream",
          "name": "stdout",
          "text": [
            "Iteration 5/30: Best values = [-5263889.5, -12.0]\n"
          ]
        },
        {
          "output_type": "stream",
          "name": "stderr",
          "text": [
            "/usr/local/lib/python3.11/dist-packages/botorch/acquisition/multi_objective/analytic.py:90: UserWarning: To copy construct from a tensor, it is recommended to use sourceTensor.clone().detach() or sourceTensor.clone().detach().requires_grad_(True), rather than torch.tensor(sourceTensor).\n",
            "  ref_point = torch.tensor(\n"
          ]
        },
        {
          "output_type": "stream",
          "name": "stdout",
          "text": [
            "Iteration 6/30: Best values = [-5263889.5, -11.0]\n"
          ]
        },
        {
          "output_type": "stream",
          "name": "stderr",
          "text": [
            "/usr/local/lib/python3.11/dist-packages/botorch/acquisition/multi_objective/analytic.py:90: UserWarning: To copy construct from a tensor, it is recommended to use sourceTensor.clone().detach() or sourceTensor.clone().detach().requires_grad_(True), rather than torch.tensor(sourceTensor).\n",
            "  ref_point = torch.tensor(\n"
          ]
        },
        {
          "output_type": "stream",
          "name": "stdout",
          "text": [
            "Iteration 7/30: Best values = [-4789390.5, -11.0]\n"
          ]
        },
        {
          "output_type": "stream",
          "name": "stderr",
          "text": [
            "/usr/local/lib/python3.11/dist-packages/botorch/acquisition/multi_objective/analytic.py:90: UserWarning: To copy construct from a tensor, it is recommended to use sourceTensor.clone().detach() or sourceTensor.clone().detach().requires_grad_(True), rather than torch.tensor(sourceTensor).\n",
            "  ref_point = torch.tensor(\n"
          ]
        },
        {
          "output_type": "stream",
          "name": "stdout",
          "text": [
            "Iteration 8/30: Best values = [-4789390.5, -11.0]\n"
          ]
        },
        {
          "output_type": "stream",
          "name": "stderr",
          "text": [
            "/usr/local/lib/python3.11/dist-packages/botorch/acquisition/multi_objective/analytic.py:90: UserWarning: To copy construct from a tensor, it is recommended to use sourceTensor.clone().detach() or sourceTensor.clone().detach().requires_grad_(True), rather than torch.tensor(sourceTensor).\n",
            "  ref_point = torch.tensor(\n"
          ]
        },
        {
          "output_type": "stream",
          "name": "stdout",
          "text": [
            "Iteration 9/30: Best values = [-4789390.5, -11.0]\n"
          ]
        },
        {
          "output_type": "stream",
          "name": "stderr",
          "text": [
            "/usr/local/lib/python3.11/dist-packages/botorch/acquisition/multi_objective/analytic.py:90: UserWarning: To copy construct from a tensor, it is recommended to use sourceTensor.clone().detach() or sourceTensor.clone().detach().requires_grad_(True), rather than torch.tensor(sourceTensor).\n",
            "  ref_point = torch.tensor(\n"
          ]
        },
        {
          "output_type": "stream",
          "name": "stdout",
          "text": [
            "Iteration 10/30: Best values = [-4789390.5, -11.0]\n"
          ]
        },
        {
          "output_type": "stream",
          "name": "stderr",
          "text": [
            "/usr/local/lib/python3.11/dist-packages/botorch/acquisition/multi_objective/analytic.py:90: UserWarning: To copy construct from a tensor, it is recommended to use sourceTensor.clone().detach() or sourceTensor.clone().detach().requires_grad_(True), rather than torch.tensor(sourceTensor).\n",
            "  ref_point = torch.tensor(\n"
          ]
        },
        {
          "output_type": "stream",
          "name": "stdout",
          "text": [
            "Iteration 11/30: Best values = [-4789390.5, -11.0]\n"
          ]
        },
        {
          "output_type": "stream",
          "name": "stderr",
          "text": [
            "/usr/local/lib/python3.11/dist-packages/botorch/acquisition/multi_objective/analytic.py:90: UserWarning: To copy construct from a tensor, it is recommended to use sourceTensor.clone().detach() or sourceTensor.clone().detach().requires_grad_(True), rather than torch.tensor(sourceTensor).\n",
            "  ref_point = torch.tensor(\n"
          ]
        },
        {
          "output_type": "stream",
          "name": "stdout",
          "text": [
            "Iteration 12/30: Best values = [-4789390.5, -11.0]\n"
          ]
        },
        {
          "output_type": "stream",
          "name": "stderr",
          "text": [
            "/usr/local/lib/python3.11/dist-packages/botorch/acquisition/multi_objective/analytic.py:90: UserWarning: To copy construct from a tensor, it is recommended to use sourceTensor.clone().detach() or sourceTensor.clone().detach().requires_grad_(True), rather than torch.tensor(sourceTensor).\n",
            "  ref_point = torch.tensor(\n"
          ]
        },
        {
          "output_type": "stream",
          "name": "stdout",
          "text": [
            "Iteration 13/30: Best values = [-3758646.5, -11.0]\n"
          ]
        },
        {
          "output_type": "stream",
          "name": "stderr",
          "text": [
            "/usr/local/lib/python3.11/dist-packages/botorch/acquisition/multi_objective/analytic.py:90: UserWarning: To copy construct from a tensor, it is recommended to use sourceTensor.clone().detach() or sourceTensor.clone().detach().requires_grad_(True), rather than torch.tensor(sourceTensor).\n",
            "  ref_point = torch.tensor(\n"
          ]
        },
        {
          "output_type": "stream",
          "name": "stdout",
          "text": [
            "Iteration 14/30: Best values = [-3758646.5, -11.0]\n"
          ]
        },
        {
          "output_type": "stream",
          "name": "stderr",
          "text": [
            "/usr/local/lib/python3.11/dist-packages/botorch/acquisition/multi_objective/analytic.py:90: UserWarning: To copy construct from a tensor, it is recommended to use sourceTensor.clone().detach() or sourceTensor.clone().detach().requires_grad_(True), rather than torch.tensor(sourceTensor).\n",
            "  ref_point = torch.tensor(\n"
          ]
        },
        {
          "output_type": "stream",
          "name": "stdout",
          "text": [
            "Iteration 15/30: Best values = [-3758646.5, -11.0]\n"
          ]
        },
        {
          "output_type": "stream",
          "name": "stderr",
          "text": [
            "/usr/local/lib/python3.11/dist-packages/botorch/acquisition/multi_objective/analytic.py:90: UserWarning: To copy construct from a tensor, it is recommended to use sourceTensor.clone().detach() or sourceTensor.clone().detach().requires_grad_(True), rather than torch.tensor(sourceTensor).\n",
            "  ref_point = torch.tensor(\n"
          ]
        },
        {
          "output_type": "stream",
          "name": "stdout",
          "text": [
            "Iteration 16/30: Best values = [-3758646.5, -11.0]\n"
          ]
        },
        {
          "output_type": "stream",
          "name": "stderr",
          "text": [
            "/usr/local/lib/python3.11/dist-packages/botorch/acquisition/multi_objective/analytic.py:90: UserWarning: To copy construct from a tensor, it is recommended to use sourceTensor.clone().detach() or sourceTensor.clone().detach().requires_grad_(True), rather than torch.tensor(sourceTensor).\n",
            "  ref_point = torch.tensor(\n"
          ]
        },
        {
          "output_type": "stream",
          "name": "stdout",
          "text": [
            "Iteration 17/30: Best values = [-3758646.5, -11.0]\n"
          ]
        },
        {
          "output_type": "stream",
          "name": "stderr",
          "text": [
            "/usr/local/lib/python3.11/dist-packages/botorch/acquisition/multi_objective/analytic.py:90: UserWarning: To copy construct from a tensor, it is recommended to use sourceTensor.clone().detach() or sourceTensor.clone().detach().requires_grad_(True), rather than torch.tensor(sourceTensor).\n",
            "  ref_point = torch.tensor(\n"
          ]
        },
        {
          "output_type": "stream",
          "name": "stdout",
          "text": [
            "Iteration 18/30: Best values = [-3758646.5, -11.0]\n"
          ]
        },
        {
          "output_type": "stream",
          "name": "stderr",
          "text": [
            "/usr/local/lib/python3.11/dist-packages/botorch/acquisition/multi_objective/analytic.py:90: UserWarning: To copy construct from a tensor, it is recommended to use sourceTensor.clone().detach() or sourceTensor.clone().detach().requires_grad_(True), rather than torch.tensor(sourceTensor).\n",
            "  ref_point = torch.tensor(\n"
          ]
        },
        {
          "output_type": "stream",
          "name": "stdout",
          "text": [
            "Iteration 19/30: Best values = [-3758646.5, -11.0]\n"
          ]
        },
        {
          "output_type": "stream",
          "name": "stderr",
          "text": [
            "/usr/local/lib/python3.11/dist-packages/botorch/acquisition/multi_objective/analytic.py:90: UserWarning: To copy construct from a tensor, it is recommended to use sourceTensor.clone().detach() or sourceTensor.clone().detach().requires_grad_(True), rather than torch.tensor(sourceTensor).\n",
            "  ref_point = torch.tensor(\n"
          ]
        },
        {
          "output_type": "stream",
          "name": "stdout",
          "text": [
            "Iteration 20/30: Best values = [-3758646.5, -11.0]\n"
          ]
        },
        {
          "output_type": "stream",
          "name": "stderr",
          "text": [
            "/usr/local/lib/python3.11/dist-packages/botorch/acquisition/multi_objective/analytic.py:90: UserWarning: To copy construct from a tensor, it is recommended to use sourceTensor.clone().detach() or sourceTensor.clone().detach().requires_grad_(True), rather than torch.tensor(sourceTensor).\n",
            "  ref_point = torch.tensor(\n"
          ]
        },
        {
          "output_type": "stream",
          "name": "stdout",
          "text": [
            "Iteration 21/30: Best values = [-3758646.5, -11.0]\n"
          ]
        },
        {
          "output_type": "stream",
          "name": "stderr",
          "text": [
            "/usr/local/lib/python3.11/dist-packages/botorch/acquisition/multi_objective/analytic.py:90: UserWarning: To copy construct from a tensor, it is recommended to use sourceTensor.clone().detach() or sourceTensor.clone().detach().requires_grad_(True), rather than torch.tensor(sourceTensor).\n",
            "  ref_point = torch.tensor(\n"
          ]
        },
        {
          "output_type": "stream",
          "name": "stdout",
          "text": [
            "Iteration 22/30: Best values = [-3758646.5, -11.0]\n"
          ]
        },
        {
          "output_type": "stream",
          "name": "stderr",
          "text": [
            "/usr/local/lib/python3.11/dist-packages/botorch/acquisition/multi_objective/analytic.py:90: UserWarning: To copy construct from a tensor, it is recommended to use sourceTensor.clone().detach() or sourceTensor.clone().detach().requires_grad_(True), rather than torch.tensor(sourceTensor).\n",
            "  ref_point = torch.tensor(\n"
          ]
        },
        {
          "output_type": "stream",
          "name": "stdout",
          "text": [
            "Iteration 23/30: Best values = [-3758646.5, -11.0]\n"
          ]
        },
        {
          "output_type": "stream",
          "name": "stderr",
          "text": [
            "/usr/local/lib/python3.11/dist-packages/botorch/acquisition/multi_objective/analytic.py:90: UserWarning: To copy construct from a tensor, it is recommended to use sourceTensor.clone().detach() or sourceTensor.clone().detach().requires_grad_(True), rather than torch.tensor(sourceTensor).\n",
            "  ref_point = torch.tensor(\n"
          ]
        },
        {
          "output_type": "stream",
          "name": "stdout",
          "text": [
            "Iteration 24/30: Best values = [-3758646.5, -11.0]\n"
          ]
        },
        {
          "output_type": "stream",
          "name": "stderr",
          "text": [
            "/usr/local/lib/python3.11/dist-packages/botorch/acquisition/multi_objective/analytic.py:90: UserWarning: To copy construct from a tensor, it is recommended to use sourceTensor.clone().detach() or sourceTensor.clone().detach().requires_grad_(True), rather than torch.tensor(sourceTensor).\n",
            "  ref_point = torch.tensor(\n"
          ]
        },
        {
          "output_type": "stream",
          "name": "stdout",
          "text": [
            "Iteration 25/30: Best values = [-3296084.75, -11.0]\n"
          ]
        },
        {
          "output_type": "stream",
          "name": "stderr",
          "text": [
            "/usr/local/lib/python3.11/dist-packages/botorch/acquisition/multi_objective/analytic.py:90: UserWarning: To copy construct from a tensor, it is recommended to use sourceTensor.clone().detach() or sourceTensor.clone().detach().requires_grad_(True), rather than torch.tensor(sourceTensor).\n",
            "  ref_point = torch.tensor(\n"
          ]
        },
        {
          "output_type": "stream",
          "name": "stdout",
          "text": [
            "Iteration 26/30: Best values = [-3296084.75, -11.0]\n"
          ]
        },
        {
          "output_type": "stream",
          "name": "stderr",
          "text": [
            "/usr/local/lib/python3.11/dist-packages/botorch/acquisition/multi_objective/analytic.py:90: UserWarning: To copy construct from a tensor, it is recommended to use sourceTensor.clone().detach() or sourceTensor.clone().detach().requires_grad_(True), rather than torch.tensor(sourceTensor).\n",
            "  ref_point = torch.tensor(\n"
          ]
        },
        {
          "output_type": "stream",
          "name": "stdout",
          "text": [
            "Iteration 27/30: Best values = [-3277889.5, -11.0]\n"
          ]
        },
        {
          "output_type": "stream",
          "name": "stderr",
          "text": [
            "/usr/local/lib/python3.11/dist-packages/botorch/acquisition/multi_objective/analytic.py:90: UserWarning: To copy construct from a tensor, it is recommended to use sourceTensor.clone().detach() or sourceTensor.clone().detach().requires_grad_(True), rather than torch.tensor(sourceTensor).\n",
            "  ref_point = torch.tensor(\n"
          ]
        },
        {
          "output_type": "stream",
          "name": "stdout",
          "text": [
            "Iteration 28/30: Best values = [-3277889.5, -11.0]\n"
          ]
        },
        {
          "output_type": "stream",
          "name": "stderr",
          "text": [
            "/usr/local/lib/python3.11/dist-packages/botorch/acquisition/multi_objective/analytic.py:90: UserWarning: To copy construct from a tensor, it is recommended to use sourceTensor.clone().detach() or sourceTensor.clone().detach().requires_grad_(True), rather than torch.tensor(sourceTensor).\n",
            "  ref_point = torch.tensor(\n"
          ]
        },
        {
          "output_type": "stream",
          "name": "stdout",
          "text": [
            "Iteration 29/30: Best values = [-3277889.5, -11.0]\n"
          ]
        },
        {
          "output_type": "stream",
          "name": "stderr",
          "text": [
            "/usr/local/lib/python3.11/dist-packages/botorch/acquisition/multi_objective/analytic.py:90: UserWarning: To copy construct from a tensor, it is recommended to use sourceTensor.clone().detach() or sourceTensor.clone().detach().requires_grad_(True), rather than torch.tensor(sourceTensor).\n",
            "  ref_point = torch.tensor(\n"
          ]
        },
        {
          "output_type": "stream",
          "name": "stdout",
          "text": [
            "Iteration 30/30: Best values = [-3277889.5, -11.0]\n",
            "Optimization complete!\n",
            "Found 2 Pareto-optimal points\n"
          ]
        }
      ]
    },
    {
      "cell_type": "code",
      "source": [
        "plt.scatter(-pareto_Y[:,0]/1000000, -pareto_Y[:,1])\n",
        "plt.xlabel(\"Cost (Million $)\")\n",
        "plt.ylabel(\"# of Line Violations\")\n",
        "\n",
        "plt.title(\"Cost vs Stability Pareto Frontier\")\n",
        "plt.show()\n",
        "print(pareto_Y)"
      ],
      "metadata": {
        "colab": {
          "base_uri": "https://localhost:8080/",
          "height": 507
        },
        "id": "-06zXeHlfe12",
        "outputId": "8bd51377-c7bf-4a81-b926-229c4233fec1"
      },
      "execution_count": null,
      "outputs": [
        {
          "output_type": "display_data",
          "data": {
            "text/plain": [
              "<Figure size 640x480 with 1 Axes>"
            ],
            "image/png": "[encoded data removed]"
          },
          "metadata": {}
        },
        {
          "output_type": "stream",
          "name": "stdout",
          "text": [
            "tensor([[-3.2961e+06, -1.1000e+01],\n",
            "        [-3.2779e+06, -1.2000e+01]])\n"
          ]
        }
      ]
    },
    {
      "cell_type": "markdown",
      "source": [
        "### Sparse Bayesian Optimization"
      ],
      "metadata": {
        "id": "TtHVb_CLvr9A"
      }
    },
    {
      "cell_type": "code",
      "source": [
        "import torch\n",
        "from botorch.models import SingleTaskGP\n",
        "from botorch.fit import fit_gpytorch_model\n",
        "from gpytorch.mlls import ExactMarginalLogLikelihood\n",
        "from botorch.acquisition.multi_objective.monte_carlo import (\n",
        "    qNoisyExpectedHypervolumeImprovement,\n",
        ")\n",
        "from botorch.sampling import SobolQMCNormalSampler\n",
        "from botorch.optim import optimize_acqf\n",
        "from botorch.utils.multi_objective.hypervolume import Hypervolume"
      ],
      "metadata": {
        "id": "8iUJN33yzN-B",
        "outputId": "ab6d79f6-ee73-43d7-d694-9c9c79b7c46d",
        "colab": {
          "base_uri": "https://localhost:8080/",
          "height": 384
        }
      },
      "execution_count": 7,
      "outputs": [
        {
          "output_type": "error",
          "ename": "ImportError",
          "evalue": "cannot import name 'fit_gpytorch_model' from 'botorch.fit' (/usr/local/lib/python3.11/dist-packages/botorch/fit.py)",
          "traceback": [
            "\u001b[0;31m---------------------------------------------------------------------------\u001b[0m",
            "\u001b[0;31mImportError\u001b[0m                               Traceback (most recent call last)",
            "\u001b[0;32m<ipython-input-7-be1ec56055ce>\u001b[0m in \u001b[0;36m<cell line: 0>\u001b[0;34m()\u001b[0m\n\u001b[1;32m      1\u001b[0m \u001b[0;32mimport\u001b[0m \u001b[0mtorch\u001b[0m\u001b[0;34m\u001b[0m\u001b[0;34m\u001b[0m\u001b[0m\n\u001b[1;32m      2\u001b[0m \u001b[0;32mfrom\u001b[0m \u001b[0mbotorch\u001b[0m\u001b[0;34m.\u001b[0m\u001b[0mmodels\u001b[0m \u001b[0;32mimport\u001b[0m \u001b[0mSingleTaskGP\u001b[0m\u001b[0;34m\u001b[0m\u001b[0;34m\u001b[0m\u001b[0m\n\u001b[0;32m----> 3\u001b[0;31m \u001b[0;32mfrom\u001b[0m \u001b[0mbotorch\u001b[0m\u001b[0;34m.\u001b[0m\u001b[0mfit\u001b[0m \u001b[0;32mimport\u001b[0m \u001b[0mfit_gpytorch_model\u001b[0m\u001b[0;34m\u001b[0m\u001b[0;34m\u001b[0m\u001b[0m\n\u001b[0m\u001b[1;32m      4\u001b[0m \u001b[0;32mfrom\u001b[0m \u001b[0mgpytorch\u001b[0m\u001b[0;34m.\u001b[0m\u001b[0mmlls\u001b[0m \u001b[0;32mimport\u001b[0m \u001b[0mExactMarginalLogLikelihood\u001b[0m\u001b[0;34m\u001b[0m\u001b[0;34m\u001b[0m\u001b[0m\n\u001b[1;32m      5\u001b[0m from botorch.acquisition.multi_objective.monte_carlo import (\n",
            "\u001b[0;31mImportError\u001b[0m: cannot import name 'fit_gpytorch_model' from 'botorch.fit' (/usr/local/lib/python3.11/dist-packages/botorch/fit.py)",
            "",
            "\u001b[0;31m---------------------------------------------------------------------------\u001b[0;32m\nNOTE: If your import is failing due to a missing package, you can\nmanually install dependencies using either !pip or !apt.\n\nTo view examples of installing some common dependencies, click the\n\"Open Examples\" button below.\n\u001b[0;31m---------------------------------------------------------------------------\u001b[0m\n"
          ],
          "errorDetails": {
            "actions": [
              {
                "action": "open_url",
                "actionText": "Open Examples",
                "url": "/notebooks/snippets/importing_libraries.ipynb"
              }
            ]
          }
        }
      ]
    },
    {
      "cell_type": "code",
      "source": [
        "# --- SEBO-style (objective + sparsity) Bayesian-optimisation loop -------------\n",
        "# assumes `objective`, `train_x_vanilla`, `train_obj`, `dim`, `bounds` already\n",
        "# defined exactly as in your snippet above\n",
        "\n",
        "\n",
        "tkwargs = {\"dtype\": torch.double, \"device\": train_x_vanilla.device}\n",
        "\n",
        "# helper: L0 sparsity (number of non-zero dims, threshold 1e-3)\n",
        "def l0(x: torch.Tensor, tol: float = 1e-3) -> torch.Tensor:\n",
        "    return (x.abs() > tol).sum(dim=-1, keepdim=True).double()\n",
        "\n",
        "# combine objective and sparsity\n",
        "train_Y = torch.cat(\n",
        "    [\n",
        "        train_obj,                 # maximise synthetic_stability_metric (negated)\n",
        "        -l0(train_x_vanilla)       # maximise (-L0)  ⇒ fewer active dims preferred\n",
        "    ],\n",
        "    dim=-1,\n",
        ")\n",
        "\n",
        "def fit_model(X, Y):\n",
        "    gp = SingleTaskGP(X, Y)\n",
        "    mll = ExactMarginalLogLikelihood(gp.likelihood, gp)\n",
        "    fit_gpytorch_model(mll)\n",
        "    return gp\n",
        "\n",
        "model = fit_model(train_x_vanilla, train_Y)\n",
        "\n",
        "# reference point below the current observed min for each objective\n",
        "ref_point = train_Y.min(dim=0).values - 1.0\n",
        "\n",
        "N_BATCHES, BATCH_SIZE = 30, 1   # tweak as needed\n",
        "sampler = SobolQMCNormalSampler(num_samples=128)\n",
        "\n",
        "for i in range(N_BATCHES):\n",
        "    # acquisition = SEBO ≈ NEHVI on [objective, –L0]\n",
        "    acqf = qNoisyExpectedHypervolumeImprovement(\n",
        "        model=model,\n",
        "        ref_point=ref_point.tolist(),\n",
        "        X_baseline=train_x_vanilla,\n",
        "        prune_baseline=True,\n",
        "        sampler=sampler,\n",
        "    )\n",
        "\n",
        "    cand, _ = optimize_acqf(\n",
        "        acq_function=acqf,\n",
        "        bounds=bounds,\n",
        "        q=BATCH_SIZE,\n",
        "        num_restarts=10,\n",
        "        raw_samples=256,\n",
        "    )\n",
        "\n",
        "    # evaluate objectives\n",
        "    y_obj = objective(cand).double()\n",
        "    y_sparse = -l0(cand)\n",
        "    new_Y = torch.cat([y_obj, y_sparse], dim=-1)\n",
        "\n",
        "    # update data\n",
        "    train_x_vanilla = torch.cat([train_x_vanilla, cand], dim=0)\n",
        "    train_Y = torch.cat([train_Y, new_Y], dim=0)\n",
        "\n",
        "    # refit GP\n",
        "    model = fit_model(train_x_vanilla, train_Y)\n",
        "\n",
        "    # (optional) track hyper-volume\n",
        "    hv = Hypervolume(ref_point)\n",
        "    print(\n",
        "        f\"Iter {i+1:02d} |  HV = {hv.compute(train_Y):.3f} | \"\n",
        "        f\"best obj={train_Y[:,0].max():.3f} at sparsity ≤{int((-train_Y[:,1]).min())}\"\n",
        "    )"
      ],
      "metadata": {
        "id": "FaCX3t5rvwIZ"
      },
      "execution_count": null,
      "outputs": []
    }
  ]
}